{
 "cells": [
  {
   "cell_type": "code",
   "execution_count": null,
   "metadata": {},
   "outputs": [],
   "source": [
    "import pandas as pd\n",
    "import numpy as np\n",
    "import matplotlib.pyplot as plt\n",
    "import seaborn as sns\n",
    "\n",
    "df = pd.read_csv('../data/fraud_dataset.csv')\n",
    "print(df.head())\n",
    "print(df.info())\n",
    "print(df['isFraud'].value_counts(normalize=True) * 100)\n",
    "\n",
    "sns.countplot(x='type', data=df)\n",
    "plt.title('Transaction Types')\n",
    "plt.show()\n"
   ]
  }
 ],
 "metadata": {},
 "nbformat": 4,
 "nbformat_minor": 2
}
